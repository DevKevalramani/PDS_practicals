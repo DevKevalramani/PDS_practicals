{
  "cells": [
    {
      "cell_type": "markdown",
      "metadata": {
        "id": "view-in-github",
        "colab_type": "text"
      },
      "source": [
        "<a href=\"https://colab.research.google.com/github/DevKevalramani/PDS_practicals/blob/main/pds_prac5_9.ipynb\" target=\"_parent\"><img src=\"https://colab.research.google.com/assets/colab-badge.svg\" alt=\"Open In Colab\"/></a>"
      ]
    },
    {
      "cell_type": "markdown",
      "metadata": {
        "id": "N8WfUJI-b4ru"
      },
      "source": [
        "# Practical:5\n",
        "Write a program to insert, delete, update, retrieve, indexing, slicing, concatenation, join etc. for string(s) from data of your dataset.  \n"
      ]
    },
    {
      "cell_type": "code",
      "execution_count": null,
      "metadata": {
        "id": "YM7BQwaMb4rw"
      },
      "outputs": [],
      "source": [
        "def insert(x):\n",
        "    \n",
        "  \n",
        "    pos=int(input(\"enter position to insert: \"))\n",
        "    st=\"Badminton\"\n",
        "    temp=st[:pos]+x+st[pos:]\n",
        "    st=temp\n",
        "    print(\"after insertion: \" +st)\n"
      ]
    },
    {
      "cell_type": "code",
      "execution_count": null,
      "metadata": {
        "id": "YvHp8Wjab4ry",
        "outputId": "83c2be2e-ddb2-40bb-b1d9-adc718356c19"
      },
      "outputs": [
        {
          "name": "stdout",
          "output_type": "stream",
          "text": [
            "enter position to insert: 10\n",
            "after insertion: Badminton Federation\n"
          ]
        }
      ],
      "source": [
        "insert(\" Federation\")"
      ]
    },
    {
      "cell_type": "code",
      "execution_count": null,
      "metadata": {
        "id": "rPUR_xpkb4rz"
      },
      "outputs": [],
      "source": [
        "def delete(s1):\n",
        "    \n",
        "    s=\"badminton tournament\"\n",
        "    print(\"before delete:\" +s)\n",
        "    \n",
        "    s=s.replace(s1,'')\n",
        "    print(\"after delete:\" +s)\n",
        "    "
      ]
    },
    {
      "cell_type": "code",
      "execution_count": null,
      "metadata": {
        "id": "NPTJYKKWb4r0",
        "outputId": "7206ae11-b964-4a8b-aaee-5b17cb1fb366"
      },
      "outputs": [
        {
          "name": "stdout",
          "output_type": "stream",
          "text": [
            "before delete:badminton tournament\n",
            "after delete:badminton \n"
          ]
        }
      ],
      "source": [
        "delete(\"tournament\")"
      ]
    },
    {
      "cell_type": "code",
      "execution_count": null,
      "metadata": {
        "id": "OttQ6FjCb4r0"
      },
      "outputs": [],
      "source": [
        "def update(s1):\n",
        "   \n",
        "    global s\n",
        "    s = \"International Badminton Federation\"\n",
        "    print(\"String before updating : \" + s)\n",
        "    s=s1\n",
        "    print(\"String after updating : \" + s)\n",
        "    \n"
      ]
    },
    {
      "cell_type": "code",
      "execution_count": null,
      "metadata": {
        "id": "S84JAQE4b4r1",
        "outputId": "f25f988a-3790-45df-b9b2-7682c0ce4d5c"
      },
      "outputs": [
        {
          "name": "stdout",
          "output_type": "stream",
          "text": [
            "String before updating : International Badminton Federation\n",
            "String after updating : Badminton World Federation\n"
          ]
        }
      ],
      "source": [
        "update(\"Badminton World Federation\")"
      ]
    },
    {
      "cell_type": "code",
      "execution_count": null,
      "metadata": {
        "id": "VB4V-JJWb4r1"
      },
      "outputs": [],
      "source": [
        "def retrieve():\n",
        "    print(s)"
      ]
    },
    {
      "cell_type": "code",
      "execution_count": null,
      "metadata": {
        "id": "OnV3n5Beb4r2",
        "outputId": "fc421368-b51a-4fb2-d896-128460001987"
      },
      "outputs": [
        {
          "name": "stdout",
          "output_type": "stream",
          "text": [
            "Badminton World Federation\n"
          ]
        }
      ],
      "source": [
        "retrieve()\n"
      ]
    },
    {
      "cell_type": "code",
      "execution_count": null,
      "metadata": {
        "id": "2yP0naZVb4r2"
      },
      "outputs": [],
      "source": [
        "def indexing(x):\n",
        "\n",
        "    s=\"Badminton\"\n",
        "    print(s)\n",
        "    \n",
        "    #x=input(\"enter the character to get its index:\")\n",
        "    print(\"the index is: \" +str(s.index(x)))"
      ]
    },
    {
      "cell_type": "code",
      "execution_count": null,
      "metadata": {
        "id": "su0hAoo-b4r3",
        "outputId": "18634d91-b306-4dd9-8071-9cf5d5ef0c4a"
      },
      "outputs": [
        {
          "name": "stdout",
          "output_type": "stream",
          "text": [
            "Badminton\n",
            "the index is: 1\n"
          ]
        }
      ],
      "source": [
        "indexing(\"a\")"
      ]
    },
    {
      "cell_type": "code",
      "execution_count": null,
      "metadata": {
        "id": "Jdc78CeNb4r3"
      },
      "outputs": [],
      "source": [
        "def slicing():\n",
        "   \n",
        "    print(\"Before slicing:\" +s)\n",
        "    start=int(input(\"Enter start point : \"))\n",
        "    end=int(input(\"Enter end point : \"))\n",
        "    step=int(input(\"Enter step point : \"))\n",
        "    print(s[start:end:step])"
      ]
    },
    {
      "cell_type": "code",
      "execution_count": null,
      "metadata": {
        "id": "Md72Wnkfb4r4",
        "outputId": "ffd6ca34-c998-4831-8c52-6bc811112e66"
      },
      "outputs": [
        {
          "name": "stdout",
          "output_type": "stream",
          "text": [
            "Before slicing:Badminton World Federation\n",
            "Enter start point : 2\n",
            "Enter end point : 8\n",
            "Enter step point : 2\n",
            "dit\n"
          ]
        }
      ],
      "source": [
        "slicing()"
      ]
    },
    {
      "cell_type": "code",
      "execution_count": null,
      "metadata": {
        "id": "HpQRD9zFb4r4"
      },
      "outputs": [],
      "source": [
        "def concatenate():\n",
        "    global s\n",
        "    s=\"badminton\"\n",
        "    print(\" before concatenation : \" + s)\n",
        "    temp=input(\"Enter a string to concatenate : \")\n",
        "    s=s+temp\n",
        "    print(\" after concatenation : \" + s)"
      ]
    },
    {
      "cell_type": "code",
      "execution_count": null,
      "metadata": {
        "id": "Qf7marMBb4r4",
        "outputId": "b3624bf6-aeca-473a-a6e9-b2b5d3a41529"
      },
      "outputs": [
        {
          "name": "stdout",
          "output_type": "stream",
          "text": [
            " before concatenation : badminton\n",
            "Enter a string to concatenate :  federation\n",
            " after concatenation : badminton federation\n"
          ]
        }
      ],
      "source": [
        "concatenate()"
      ]
    },
    {
      "cell_type": "code",
      "execution_count": null,
      "metadata": {
        "id": "uWUfXi55b4r5"
      },
      "outputs": [],
      "source": [
        "def string_join():\n",
        "    global s\n",
        "    s=\"Badminton\"\n",
        "    print(\" before join : \" + s)\n",
        "    s1=input(\"Enter the string to join : \")\n",
        "    s=s1.join(s)\n",
        "    print(\"String after join : \" + s)"
      ]
    },
    {
      "cell_type": "code",
      "execution_count": null,
      "metadata": {
        "id": "jOU-hohkb4r5",
        "outputId": "9e713d99-da57-469c-f5a4-be941bd5bb8a"
      },
      "outputs": [
        {
          "name": "stdout",
          "output_type": "stream",
          "text": [
            " before join : Badminton\n",
            "Enter the string to join : #\n",
            "String after join : B#a#d#m#i#n#t#o#n\n"
          ]
        }
      ],
      "source": [
        "string_join()"
      ]
    },
    {
      "cell_type": "code",
      "execution_count": null,
      "metadata": {
        "id": "f3MYfCeZb4r6"
      },
      "outputs": [],
      "source": [
        "def greet(func): \n",
        "    # storing the function in a variable \n",
        "    greeting = func(\"Hi, I am created by a function passed as an argument.\") \n",
        "    print(greeting)"
      ]
    },
    {
      "cell_type": "code",
      "execution_count": null,
      "metadata": {
        "id": "8yNDL6Fkb4r6",
        "outputId": "10349516-fb96-4e3d-c389-4c3071cd31fb"
      },
      "outputs": [
        {
          "name": "stdout",
          "output_type": "stream",
          "text": [
            "enter position to insert: 10\n",
            "after insertion: BadmintonHi, I am created by a function passed as an argument.\n",
            "None\n"
          ]
        }
      ],
      "source": [
        "greet(insert) #insert function is passed as an argument"
      ]
    },
    {
      "cell_type": "code",
      "execution_count": null,
      "metadata": {
        "id": "XXmxYsWKb4r7"
      },
      "outputs": [],
      "source": []
    },
    {
      "cell_type": "markdown",
      "metadata": {
        "id": "suVBI_h3b4r7"
      },
      "source": [
        "# Practical 6:\n",
        "Write a program to insert, delete, update, retrieve, indexing, slicing, concatenation etc. for list(s) from data of your dataset.  "
      ]
    },
    {
      "cell_type": "code",
      "execution_count": null,
      "metadata": {
        "id": "mTHHhYqYb4r7"
      },
      "outputs": [],
      "source": [
        "global l1\n",
        "l1 = [\"1\", \"Thailand open\", \"Bangkok\", \"Super 300\",\"WD\", \"Quarter final\"]"
      ]
    },
    {
      "cell_type": "code",
      "execution_count": null,
      "metadata": {
        "id": "aANh5ebub4r8"
      },
      "outputs": [],
      "source": [
        "def insert_list():\n",
        "   \n",
        "   \n",
        "    print(\" before insertion : \" + str(l1))\n",
        "    \n",
        "    x=input(\"Enter element to insert : \")\n",
        "    pos =int(input(\"Enter the position for insertion : \"))\n",
        "    l1.insert(pos,x)\n",
        "    \n",
        "    print(\" after insertion : \" + str(l1))"
      ]
    },
    {
      "cell_type": "code",
      "execution_count": null,
      "metadata": {
        "id": "FjGpqwGkb4r8",
        "outputId": "dc0071ce-44c3-4bff-9334-3e8812e83fc7"
      },
      "outputs": [
        {
          "name": "stdout",
          "output_type": "stream",
          "text": [
            " before insertion : ['1', 'Thailand open', 'Bangkok', 'Super 300', 'WD', 'Quarter final']\n",
            "Enter element to insert : Thailand\n",
            "Enter the position for insertion : 3\n",
            " after insertion : ['1', 'Thailand open', 'Bangkok', 'Thailand', 'Super 300', 'WD', 'Quarter final']\n"
          ]
        }
      ],
      "source": [
        "insert_list()"
      ]
    },
    {
      "cell_type": "code",
      "execution_count": null,
      "metadata": {
        "id": "OVWyiEUdb4r9"
      },
      "outputs": [],
      "source": [
        "def delete_list():\n",
        "    l1\n",
        "    print(\"before deletion : \" + str(l1))\n",
        "    l1.remove(input(\"Enter the element to delete : \"))\n",
        "    print(\"after deletion : \" + str(l1))\n"
      ]
    },
    {
      "cell_type": "code",
      "execution_count": null,
      "metadata": {
        "id": "T1bN0EzOb4r9",
        "outputId": "f2e84ea9-cb00-42db-f3a0-0110e6853d7d"
      },
      "outputs": [
        {
          "name": "stdout",
          "output_type": "stream",
          "text": [
            "before deletion : ['1', 'Thailand open', 'Bangkok', 'Thailand', 'Super 300', 'WD', 'Quarter final']\n",
            "Enter the element to delete : WD\n",
            "after deletion : ['1', 'Thailand open', 'Bangkok', 'Thailand', 'Super 300', 'Quarter final']\n"
          ]
        }
      ],
      "source": [
        "delete_list()"
      ]
    },
    {
      "cell_type": "code",
      "execution_count": null,
      "metadata": {
        "id": "fWfkv64Xb4r9"
      },
      "outputs": [],
      "source": [
        "def update_list():\n",
        "   \n",
        "    print(\"before updating : \" +str(l1))\n",
        "    i=l1.index(input(\"Enter the element to be replaced : \"))\n",
        "    l1[i]=input(\"Enter the new element : \")\n",
        "    print(\"New list is : \" + str(l1))"
      ]
    },
    {
      "cell_type": "code",
      "execution_count": null,
      "metadata": {
        "id": "do_M_srSb4r-",
        "outputId": "cadd777c-4690-465c-8ef8-82b86dd88ac2"
      },
      "outputs": [
        {
          "name": "stdout",
          "output_type": "stream",
          "text": [
            "before updating : ['1', 'Thailand open', 'Bangkok', 'Super 300', 'WD', 'Quarter final']\n",
            "Enter the element to be replaced : WD\n",
            "Enter the new element : MD\n",
            "New list is : ['1', 'Thailand open', 'Bangkok', 'Super 300', 'MD', 'Quarter final']\n"
          ]
        }
      ],
      "source": [
        "update_list()"
      ]
    },
    {
      "cell_type": "code",
      "execution_count": null,
      "metadata": {
        "id": "VEoxspk9b4r-"
      },
      "outputs": [],
      "source": [
        "def retrieve_list():\n",
        "   \n",
        "    print(\"The list is : \" + str(l1))\n",
        "    "
      ]
    },
    {
      "cell_type": "code",
      "execution_count": null,
      "metadata": {
        "id": "rKzygUJzb4r_",
        "outputId": "b57d87f6-0368-42a9-f670-b698f9c21a11"
      },
      "outputs": [
        {
          "name": "stdout",
          "output_type": "stream",
          "text": [
            "The list is : ['1', 'Thailand open', 'Bangkok', 'Super 300', 'MD', 'Quarter final']\n"
          ]
        }
      ],
      "source": [
        "retrieve_list()"
      ]
    },
    {
      "cell_type": "code",
      "execution_count": null,
      "metadata": {
        "id": "ndcn_Uj5b4r_"
      },
      "outputs": [],
      "source": [
        "def indexing_list():\n",
        "    global l1\n",
        "    print(l1.index(input(\"Enter the string :\")))"
      ]
    },
    {
      "cell_type": "code",
      "execution_count": null,
      "metadata": {
        "id": "TyX_qzpwb4r_",
        "outputId": "5274067f-53c6-44bd-aad0-39861d99dbf7"
      },
      "outputs": [
        {
          "name": "stdout",
          "output_type": "stream",
          "text": [
            "Enter the string :Bangkok\n",
            "2\n"
          ]
        }
      ],
      "source": [
        "indexing_list()"
      ]
    },
    {
      "cell_type": "code",
      "execution_count": null,
      "metadata": {
        "id": "Zkjxoc-2b4sA"
      },
      "outputs": [],
      "source": [
        "def slicing_list():\n",
        "    global l1\n",
        "    start=int(input(\"Enter the start position : \"))\n",
        "    end=int(input(\"Enter the end position : \"))\n",
        "    step=int(input(\"Enter step : \"))\n",
        "    print(l1[start:end:step])"
      ]
    },
    {
      "cell_type": "code",
      "execution_count": null,
      "metadata": {
        "id": "baTtVj8sb4sA",
        "outputId": "94038289-da46-4eb4-a803-55fb440074c6"
      },
      "outputs": [
        {
          "name": "stdout",
          "output_type": "stream",
          "text": [
            "Enter the start position : 1\n",
            "Enter the end position : 6\n",
            "Enter step : 2\n",
            "['Thailand open', 'Super 300', 'Quarter final']\n"
          ]
        }
      ],
      "source": [
        "slicing_list()"
      ]
    },
    {
      "cell_type": "code",
      "execution_count": null,
      "metadata": {
        "id": "SqxsK-7jb4sA"
      },
      "outputs": [],
      "source": [
        "def concatenate_list():\n",
        "   \n",
        "    print(\"before concatenation :\" + str(l1))\n",
        "    l1.append(input(\"Give the element to concatenate : \"))\n",
        "    print(\"after concatenation : \" + str(l1))"
      ]
    },
    {
      "cell_type": "code",
      "execution_count": null,
      "metadata": {
        "id": "dhxJYT0ob4sB",
        "outputId": "cf2942b3-8f81-472f-9e7f-95f423e32a6a"
      },
      "outputs": [
        {
          "name": "stdout",
          "output_type": "stream",
          "text": [
            "before concatenation :['1', 'Thailand open', 'Bangkok', 'Super 300', 'MD', 'Quarter final']\n",
            "Give the element to concatenate : xyz\n",
            "after concatenation : ['1', 'Thailand open', 'Bangkok', 'Super 300', 'MD', 'Quarter final', 'xyz']\n"
          ]
        }
      ],
      "source": [
        "concatenate_list()"
      ]
    },
    {
      "cell_type": "code",
      "execution_count": null,
      "metadata": {
        "id": "mu7m5ECpb4sB"
      },
      "outputs": [],
      "source": [
        "def join_list():\n",
        "    global l1\n",
        "    print(\"before join : \" + str(l1))\n",
        "    l1=input(\"Enter the element to join : \").join(l1)\n",
        "    print(\"after join : \"+str(l1))"
      ]
    },
    {
      "cell_type": "code",
      "execution_count": null,
      "metadata": {
        "id": "yFPp4fYxb4sB",
        "outputId": "4e344f0b-cf9b-440e-9900-70b7e2a734bd"
      },
      "outputs": [
        {
          "name": "stdout",
          "output_type": "stream",
          "text": [
            "before join : ['1', 'Thailand open', 'Bangkok', 'Super 300', 'MD', 'Quarter final', 'xyz']\n",
            "Enter the element to join : #\n",
            "after join : 1#Thailand open#Bangkok#Super 300#MD#Quarter final#xyz\n"
          ]
        }
      ],
      "source": [
        "join_list()"
      ]
    },
    {
      "cell_type": "code",
      "execution_count": null,
      "metadata": {
        "id": "zw7f9jpLb4sC"
      },
      "outputs": [],
      "source": []
    },
    {
      "cell_type": "markdown",
      "metadata": {
        "id": "BMjTp-Rmb4sC"
      },
      "source": [
        "# Practical:7\n",
        "Write a program to insert, delete, update, retrieve, indexing, slicing, concatenation etc. for  tuple(s) from data of your dataset.  "
      ]
    },
    {
      "cell_type": "code",
      "execution_count": null,
      "metadata": {
        "id": "nh3Pi_tNb4sC",
        "outputId": "dbf7033f-f7d1-4760-bd31-582f9418c67f"
      },
      "outputs": [
        {
          "name": "stdout",
          "output_type": "stream",
          "text": [
            "Tuple : ['Thailand Open', 'Bangkok', 'super 300']\n",
            "\n",
            "Select the operation from the following:\n",
            "1. Insert\n",
            "2. Delete\n",
            "3. Update\n",
            "4. Retrieve\n",
            "5. Indexing                   \n",
            "6. Slicing\n",
            "7. Concatenation\n",
            "\n",
            "Enter numbers to select operation : 6\n",
            "\n",
            "Enter the start position : 1\n",
            "Enter the end position : 3\n",
            "Enter step : 1\n",
            "['Bangkok', 'super 300']\n"
          ]
        }
      ],
      "source": [
        "# tup = [\"Thailand Open\" , \"Bangkok\" , \"super 300\"]\n",
        "\n",
        "def tuple_insert():\n",
        "    global tup\n",
        "    print(\"Tuple before insertion : \" + str(tup))\n",
        "    tup=list(tup)\n",
        "    tup.insert(int(input(\"Enter position for insertion\")),input(\"Enter the string for insertion : \"))\n",
        "    tup=tuple(tup)\n",
        "    print(\"Tuple before insertion : \" + str(tup))\n",
        "    \n",
        "def tuple_delete():\n",
        "    global tup\n",
        "    print(\"Tuple before deletion : \" + str(tup))\n",
        "    tup=list(tup)\n",
        "    tup.remove(input(\"Enter the element to be deleted : \"))\n",
        "    tup=tuple(tup)\n",
        "    print(\"Tuple before deletion : \" + str(tup))\n",
        "\n",
        "def tuple_update():\n",
        "    global tup\n",
        "    print(\"Tuple beforglobale updating : \" + str(tup))\n",
        "    tup=list(tup)\n",
        "    index=tup.index(input(\"Enter the element to be replaced : \"))\n",
        "    tup[index]=input(\"Enter the new element : \")\n",
        "    print(\"Tuple after updating : \" + str(tup))\n",
        "\n",
        "def tuple_retrieve():\n",
        "    global tup\n",
        "    print(\"Tuple retrieved : \" + str(tup))\n",
        "    \n",
        "def tuple_indexing():\n",
        "    global tup\n",
        "    print(tup.index(input(\"Enter the element to get its index : \")))\n",
        "    \n",
        "def tuple_slicing():\n",
        "    global tup\n",
        "    start=int(input(\"Enter the start position : \"))\n",
        "    end=int(input(\"Enter the end position : \"))\n",
        "    step=int(input(\"Enter step : \"))\n",
        "    print(tup[start:end:step])\n",
        "    \n",
        "def tuple_concatenation():\n",
        "    global tup\n",
        "    tup=list(tup)\n",
        "    print(\"Tuple before concatenation : \" + str(tup))\n",
        "    tup.append(input(\"Enter the element to be concatenated : \"))\n",
        "    tup=tuple(tup)\n",
        "    print(\"Tuple after concatenation : \" + str(tup))\n",
        "\n",
        "def switch(argument):\n",
        "    switcher={\n",
        "        \"1\":tuple_insert,\n",
        "        \"2\":tuple_delete,\n",
        "        \"3\":tuple_update,\n",
        "        \"4\":tuple_retrieve,\n",
        "        \"5\":tuple_indexing,\n",
        "        \"6\":tuple_slicing,\n",
        "        \"7\":tuple_concatenation,\n",
        "    }\n",
        "    r=switcher.get(argument)()\n",
        "    \n",
        "tup = [\"Thailand Open\" , \"Bangkok\" , \"super 300\"]\n",
        "print(\"Tuple : \" + str(tup) + \"\\n\")\n",
        "\n",
        "\n",
        "print(\"\"\"Select the operation from the following:\n",
        "1. Insert\n",
        "2. Delete\n",
        "3. Update\n",
        "4. Retrieve\n",
        "5. Indexing                   \n",
        "6. Slicing\n",
        "7. Concatenation\n",
        "\"\"\")\n",
        "arg=input(\"Enter numbers to select operation : \")\n",
        "print()\n",
        "\n",
        "switch(arg)\n"
      ]
    },
    {
      "cell_type": "code",
      "execution_count": null,
      "metadata": {
        "id": "5oVVP7Jhb4sD"
      },
      "outputs": [],
      "source": []
    },
    {
      "cell_type": "markdown",
      "metadata": {
        "id": "_Dn0KADPb4sD"
      },
      "source": [
        "# Practical 8:\n",
        "Write a program to do set operations from data of your dataset: (i)intersection (ii)union (iii)difference (iv)symmetric difference (v)check s1 is a subset of s2(vi)check if s1 is a superset of s2(vii)find whether two sets are disjoint or not(viii)find all subsets of a set without using itertools\n"
      ]
    },
    {
      "cell_type": "code",
      "execution_count": null,
      "metadata": {
        "id": "97opPOq4b4sE"
      },
      "outputs": [],
      "source": [
        "global s1,s2\n",
        "s1={\"1\",\"Thailand Open\",\"Bangkok\",\"MS\"}\n",
        "\n",
        "#initial set s2\n",
        "s2={\"2\",\"China Open\",\" Guangzhou\",\"MS\"}\n",
        "\n",
        "def intersection():\n",
        "    \n",
        "    print(\"Intersection of s1 and s2 : \"+str(s1.intersection(s2)))\n",
        "\n",
        "def union():\n",
        "    \n",
        "    \n",
        "    print(\"Union of s1 and s2 : \" + str(s1.union(s2)))\n",
        "\n",
        "\n",
        "def set_difference():\n",
        "   \n",
        "    \n",
        "    #Set difference of sets s1 and s2 (i.e. s1-s2) with the help of difference function\n",
        "    print(\"Set Difference : \" + str(s1.difference(s2)))\n",
        "\n",
        "\n",
        "def symmetric_difference():\n",
        "    \n",
        "    \n",
        "    #Set symmetric difference of sets s1 and s2 with the help of symmetric_difference function\n",
        "    print(\"Symmetric Difference : \" + str(s1.symmetric_difference(s2)))\n",
        "\n",
        "\n",
        "def is_subset():\n",
        "    \n",
        "    #check if set s1 is subset of s2\n",
        "    #returns True if s1 is subset of s2 else False\n",
        "    print(\"s1 subset of s2 : \" + str(s1.issubset(s2)))\n",
        "\n",
        "\n",
        "def superset():\n",
        "    \n",
        "    \n",
        "    #check if set s1 is superset of s2\n",
        "    #returns True if s1 is superset of s2 else False\n",
        "    print(\"s1 superset of s2 : \"+str(s1.issuperset(s2)))\n",
        "\n",
        "def disjoint():\n",
        "   \n",
        "    \n",
        "    #check if sets s1 and s2 are disjoint sets\n",
        "    print(\"s1 and s2 are disjoint : \"+str(s1.isdisjoint(s2)))\n",
        "\n",
        "\n",
        "def allsubsets():\n",
        "    \n",
        "    output=[[]]\n",
        "    out=[[]]\n",
        "    for i in s1:\n",
        "        output+=[lst+[i] for lst in output]\n",
        "    print(\"All subsets of s1 :\\n\"+str(output))\n",
        "    \n",
        "    for i in s2:\n",
        "        out+=[l+[i] for l in output]\n",
        "    print(\"All subsets of s2 :\\n\"+str(output))"
      ]
    },
    {
      "cell_type": "code",
      "execution_count": null,
      "metadata": {
        "id": "9zEmrJl6b4sE",
        "outputId": "e424cf49-d0d7-44ec-acbe-2cad30bf4e73"
      },
      "outputs": [
        {
          "name": "stdout",
          "output_type": "stream",
          "text": [
            "Intersection of s1 and s2 : {'MS'}\n"
          ]
        }
      ],
      "source": [
        "intersection()"
      ]
    },
    {
      "cell_type": "code",
      "execution_count": null,
      "metadata": {
        "id": "U4kAumkrb4sE",
        "outputId": "305f531f-f45e-4ad4-e24c-dcc3db7b4775"
      },
      "outputs": [
        {
          "name": "stdout",
          "output_type": "stream",
          "text": [
            "Union of s1 and s2 : {'Bangkok', 'MS', '2', '1', ' Guangzhou', 'China Open', 'Thailand Open'}\n"
          ]
        }
      ],
      "source": [
        "union()"
      ]
    },
    {
      "cell_type": "code",
      "execution_count": null,
      "metadata": {
        "id": "xj4mg_zKb4sF",
        "outputId": "e4ac13dc-e059-4977-81dd-2fb6e8291c88"
      },
      "outputs": [
        {
          "name": "stdout",
          "output_type": "stream",
          "text": [
            "Set Difference : {'1', 'Thailand Open', 'Bangkok'}\n"
          ]
        }
      ],
      "source": [
        "set_difference()"
      ]
    },
    {
      "cell_type": "code",
      "execution_count": null,
      "metadata": {
        "id": "UhMksXRrb4sF",
        "outputId": "f353f46b-37eb-488b-c1db-5573bad38d5b"
      },
      "outputs": [
        {
          "name": "stdout",
          "output_type": "stream",
          "text": [
            "Symmetric Difference : {'2', 'Bangkok', '1', ' Guangzhou', 'China Open', 'Thailand Open'}\n"
          ]
        }
      ],
      "source": [
        "symmetric_difference()"
      ]
    },
    {
      "cell_type": "code",
      "execution_count": null,
      "metadata": {
        "id": "L3AzItMBb4sF",
        "outputId": "d8423723-3f79-4b56-d406-4e9769b9da71"
      },
      "outputs": [
        {
          "name": "stdout",
          "output_type": "stream",
          "text": [
            "s1 subset of s2 : False\n"
          ]
        }
      ],
      "source": [
        "is_subset()"
      ]
    },
    {
      "cell_type": "code",
      "execution_count": null,
      "metadata": {
        "id": "z2GiLigOb4sG",
        "outputId": "f76a2d96-8008-44b3-e291-7be73b513f04"
      },
      "outputs": [
        {
          "name": "stdout",
          "output_type": "stream",
          "text": [
            "s1 superset of s2 : False\n"
          ]
        }
      ],
      "source": [
        "superset()"
      ]
    },
    {
      "cell_type": "code",
      "execution_count": null,
      "metadata": {
        "id": "FHRumdieb4sG",
        "outputId": "d462e4f1-0f19-4e72-dc70-2da72475a9ba"
      },
      "outputs": [
        {
          "name": "stdout",
          "output_type": "stream",
          "text": [
            "s1 and s2 are disjoint : False\n"
          ]
        }
      ],
      "source": [
        "disjoint()"
      ]
    },
    {
      "cell_type": "code",
      "execution_count": null,
      "metadata": {
        "id": "IR-GzGbWb4sG",
        "outputId": "99876c71-1826-4ffd-d3e4-fff7c6a80f1d"
      },
      "outputs": [
        {
          "name": "stdout",
          "output_type": "stream",
          "text": [
            "All subsets of s1 :\n",
            "[[], ['1'], ['Thailand Open'], ['1', 'Thailand Open'], ['Bangkok'], ['1', 'Bangkok'], ['Thailand Open', 'Bangkok'], ['1', 'Thailand Open', 'Bangkok'], ['MS'], ['1', 'MS'], ['Thailand Open', 'MS'], ['1', 'Thailand Open', 'MS'], ['Bangkok', 'MS'], ['1', 'Bangkok', 'MS'], ['Thailand Open', 'Bangkok', 'MS'], ['1', 'Thailand Open', 'Bangkok', 'MS']]\n",
            "All subsets of s2 :\n",
            "[[], ['1'], ['Thailand Open'], ['1', 'Thailand Open'], ['Bangkok'], ['1', 'Bangkok'], ['Thailand Open', 'Bangkok'], ['1', 'Thailand Open', 'Bangkok'], ['MS'], ['1', 'MS'], ['Thailand Open', 'MS'], ['1', 'Thailand Open', 'MS'], ['Bangkok', 'MS'], ['1', 'Bangkok', 'MS'], ['Thailand Open', 'Bangkok', 'MS'], ['1', 'Thailand Open', 'Bangkok', 'MS']]\n"
          ]
        }
      ],
      "source": [
        "allsubsets()"
      ]
    },
    {
      "cell_type": "code",
      "execution_count": null,
      "metadata": {
        "id": "_Zv4cM68b4sH"
      },
      "outputs": [],
      "source": []
    },
    {
      "cell_type": "markdown",
      "metadata": {
        "id": "cEEe9DzSb4sH"
      },
      "source": [
        "# Practical 9:\n",
        "Write a program to do operations on a dictionary from data of your dataset. "
      ]
    },
    {
      "cell_type": "code",
      "execution_count": null,
      "metadata": {
        "id": "Gl3TRtR2b4sH"
      },
      "outputs": [],
      "source": [
        "global d1\n",
        "d1={\"Tournament name\":\"Thailand Open\", \"city\":\"Bangkok\", \"type\":\"super 300\"}"
      ]
    },
    {
      "cell_type": "code",
      "execution_count": null,
      "metadata": {
        "id": "mqwiurLOb4sH"
      },
      "outputs": [],
      "source": [
        "def insert_d():\n",
        "    d1={\"Tournament name\":\"Thailand Open\", \"city\":\"Bangkok\", \"type\":\"super 300\"}\n",
        "    print(\"before insertion : \" + str(d1))\n",
        "    x=list(d1.items())\n",
        "    x.insert(int(input(\"Enter position for insertion : \")), (input(\"Enter Key : \"),input(\"Enter value : \")))\n",
        "    d1=dict(x)\n",
        "    print(\"Dictionary after insertion : \" + str(d1))"
      ]
    },
    {
      "cell_type": "code",
      "execution_count": null,
      "metadata": {
        "id": "By5pRna5b4sI",
        "outputId": "09ad0ecd-ba4e-4134-dba5-b6b5f2d2e9d3"
      },
      "outputs": [
        {
          "name": "stdout",
          "output_type": "stream",
          "text": [
            "before insertion : {'Tournament name': 'Thailand Open', 'city': 'Bangkok', 'type': 'super 300'}\n",
            "Enter position for insertion : 2\n",
            "Enter Key : country\n",
            "Enter value : Thailand\n",
            "Dictionary after insertion : {'Tournament name': 'Thailand Open', 'city': 'Bangkok', 'country': 'Thailand', 'type': 'super 300'}\n"
          ]
        }
      ],
      "source": [
        "insert_d()"
      ]
    },
    {
      "cell_type": "code",
      "execution_count": null,
      "metadata": {
        "id": "RCjYv1hIb4sI"
      },
      "outputs": [],
      "source": [
        "\n",
        "def delete_d():\n",
        "    \n",
        "    \n",
        "    print(\"before deletion : \" + str(d1))\n",
        "    k=(input(\"Enter key to be deleted : \"))\n",
        "           \n",
        "    del d1[k]\n",
        "    print(\"Dictionary after deletion : \" + str(d1))"
      ]
    },
    {
      "cell_type": "code",
      "execution_count": null,
      "metadata": {
        "id": "vgRtnMkkb4sJ",
        "outputId": "8b58391f-95fd-4a69-a1c5-aec46b0fefc9"
      },
      "outputs": [
        {
          "name": "stdout",
          "output_type": "stream",
          "text": [
            "before deletion : {'Tournament name': 'Thailand Open', 'city': 'Bangkok', 'type': 'super 300'}\n",
            "Enter key to be deleted : city\n",
            "Dictionary after deletion : {'Tournament name': 'Thailand Open', 'type': 'super 300'}\n"
          ]
        }
      ],
      "source": [
        "delete_d()"
      ]
    },
    {
      "cell_type": "code",
      "execution_count": null,
      "metadata": {
        "id": "48nn3Thib4sJ"
      },
      "outputs": [],
      "source": [
        "def update_d():\n",
        "    global d1\n",
        "    print(\"before updating : \" + str(d1))\n",
        "    k1=(input(\"Enter the key to be replaced : \"))\n",
        "    val=input(\"Enter the value : \")\n",
        "    d1.update({k1:val})\n",
        "    print(\"after updating : \" + str(d1))"
      ]
    },
    {
      "cell_type": "code",
      "execution_count": null,
      "metadata": {
        "id": "_xZMq0sXb4sJ",
        "outputId": "c39ba5f1-434b-4dd8-92ec-abae179d42ee"
      },
      "outputs": [
        {
          "name": "stdout",
          "output_type": "stream",
          "text": [
            "before updating : {'Tournament name': 'Thailand Open', 'type': 'super 300'}\n",
            "Enter the key to be replaced : type\n",
            "Enter the value : Super 500\n",
            "after updating : {'Tournament name': 'Thailand Open', 'type': 'Super 500'}\n"
          ]
        }
      ],
      "source": [
        "update_d()"
      ]
    },
    {
      "cell_type": "code",
      "execution_count": null,
      "metadata": {
        "id": "byPeA2NHb4sK"
      },
      "outputs": [],
      "source": [
        "def retrieve_d():\n",
        "    global d1\n",
        "    print(\"Dictionary retrieved : \" + str(d1))"
      ]
    },
    {
      "cell_type": "code",
      "execution_count": null,
      "metadata": {
        "id": "BJ_HbNFJb4sK",
        "outputId": "c91d48a1-77ef-4b10-a506-a8654af03493"
      },
      "outputs": [
        {
          "name": "stdout",
          "output_type": "stream",
          "text": [
            "Dictionary retrieved : {'Tournament name': 'Thailand Open', 'type': 'Super 500'}\n"
          ]
        }
      ],
      "source": [
        "retrieve_d()"
      ]
    },
    {
      "cell_type": "code",
      "execution_count": null,
      "metadata": {
        "id": "qmUOpaNVb4sK"
      },
      "outputs": [],
      "source": [
        "def indexing_d():\n",
        "    global d1\n",
        "    k=input(\"Enter the key to get its value : \")\n",
        "    print(d1.get(k))\n",
        "    "
      ]
    },
    {
      "cell_type": "code",
      "execution_count": null,
      "metadata": {
        "id": "goWNo5xbb4sK",
        "outputId": "d06dcf28-bb7b-4684-8690-46e7d90db355"
      },
      "outputs": [
        {
          "name": "stdout",
          "output_type": "stream",
          "text": [
            "Enter the key to get its value : type\n",
            "Super 500\n"
          ]
        }
      ],
      "source": [
        "indexing_d()\n"
      ]
    },
    {
      "cell_type": "code",
      "execution_count": null,
      "metadata": {
        "id": "b-w94vzMb4sL"
      },
      "outputs": [],
      "source": [
        "#problem\n",
        "def slicing_d():\n",
        "    global d1\n",
        "    start=int(input(\"Enter start position : \"))\n",
        "    end=int(input(\"Enter end position : \"))\n",
        "    res=dict()\n",
        "    for i in d1:\n",
        "        res[i]=d1[i][start:end]\n",
        "    print(res)"
      ]
    },
    {
      "cell_type": "code",
      "execution_count": null,
      "metadata": {
        "id": "UwEG_zOQb4sL",
        "outputId": "20e2593c-80cb-4c5f-ab76-7a3ed0fbe641"
      },
      "outputs": [
        {
          "name": "stdout",
          "output_type": "stream",
          "text": [
            "Enter start position : 1\n",
            "Enter end position : 2\n",
            "{'Tournament name': 'h', 'type': 'u'}\n"
          ]
        }
      ],
      "source": [
        "slicing_d()"
      ]
    },
    {
      "cell_type": "code",
      "execution_count": null,
      "metadata": {
        "id": "wz_2v9cTb4sL"
      },
      "outputs": [],
      "source": [
        "def concatenate_d():\n",
        "    global d1\n",
        "    print(\"before concatenation : \" + str(d1))\n",
        "    key_to_concatenate=(input(\"Enter the key to be concatenated : \"))\n",
        "    value_to_concatenate=input(\"Enter the value to be concatenated : \")\n",
        "    d1.update({key_to_concatenate:value_to_concatenate})\n",
        "    print(\"after concatenation : \" + str(d1))"
      ]
    },
    {
      "cell_type": "code",
      "execution_count": null,
      "metadata": {
        "id": "J88h5bfzb4sM",
        "outputId": "b2b40f67-45fc-4e06-90cf-730e2293e156"
      },
      "outputs": [
        {
          "name": "stdout",
          "output_type": "stream",
          "text": [
            "before concatenation : {'Tournament name': 'Thailand Open', 'type': 'Super 500'}\n",
            "Enter the key to be concatenated : city\n",
            "Enter the value to be concatenated : Bangkok\n",
            "after concatenation : {'Tournament name': 'Thailand Open', 'type': 'Super 500', 'city': 'Bangkok'}\n"
          ]
        }
      ],
      "source": [
        "concatenate_d()"
      ]
    }
  ],
  "metadata": {
    "kernelspec": {
      "display_name": "Python 3 (ipykernel)",
      "language": "python",
      "name": "python3"
    },
    "language_info": {
      "codemirror_mode": {
        "name": "ipython",
        "version": 3
      },
      "file_extension": ".py",
      "mimetype": "text/x-python",
      "name": "python",
      "nbconvert_exporter": "python",
      "pygments_lexer": "ipython3",
      "version": "3.7.6"
    },
    "colab": {
      "provenance": [],
      "include_colab_link": true
    }
  },
  "nbformat": 4,
  "nbformat_minor": 0
}